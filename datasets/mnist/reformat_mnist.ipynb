{
 "cells": [
  {
   "cell_type": "code",
   "execution_count": 2,
   "id": "88280d39-24a6-4e90-93c7-fdafd2409cf8",
   "metadata": {},
   "outputs": [
    {
     "name": "stdout",
     "output_type": "stream",
     "text": [
      "Defaulting to user installation because normal site-packages is not writeable\n",
      "Collecting opencv-python\n",
      "  Downloading opencv_python-4.7.0.68-cp37-abi3-manylinux_2_17_x86_64.manylinux2014_x86_64.whl (61.8 MB)\n",
      "\u001b[2K     \u001b[38;2;114;156;31m━━━━━━━━━━━━━━━━━━━━━━━━━━━━━━━━━━━━━━━━\u001b[0m \u001b[32m61.8/61.8 MB\u001b[0m \u001b[31m35.6 MB/s\u001b[0m eta \u001b[36m0:00:00\u001b[0mm eta \u001b[36m0:00:01\u001b[0m0:01\u001b[0m:01\u001b[0m\n",
      "\u001b[?25hRequirement already satisfied: numpy>=1.21.2 in /usr/lib/python3/dist-packages (from opencv-python) (1.21.5)\n",
      "Installing collected packages: opencv-python\n",
      "Successfully installed opencv-python-4.7.0.68\n",
      "\n",
      "\u001b[1m[\u001b[0m\u001b[34;49mnotice\u001b[0m\u001b[1;39;49m]\u001b[0m\u001b[39;49m A new release of pip available: \u001b[0m\u001b[31;49m22.2.2\u001b[0m\u001b[39;49m -> \u001b[0m\u001b[32;49m23.0.1\u001b[0m\n",
      "\u001b[1m[\u001b[0m\u001b[34;49mnotice\u001b[0m\u001b[1;39;49m]\u001b[0m\u001b[39;49m To update, run: \u001b[0m\u001b[32;49mpython -m pip install --upgrade pip\u001b[0m\n"
     ]
    }
   ],
   "source": [
    "!pip install opencv-python"
   ]
  },
  {
   "cell_type": "code",
   "execution_count": 100,
   "id": "d7e11588-023c-4a8d-ae41-8148f99c6dbe",
   "metadata": {},
   "outputs": [],
   "source": [
    "# https://github.com/rasbt/mlxtend/blob/master/mlxtend/data/local_mnist.py\n",
    "\n",
    "# Sebastian Raschka 2014-2022\n",
    "# mlxtend Machine Learning Library Extensions\n",
    "#\n",
    "# A function for fetching the open-source MNIST dataset.\n",
    "# Author: Sebastian Raschka <sebastianraschka.com>\n",
    "#\n",
    "# License: BSD 3 clause\n",
    "\n",
    "import struct\n",
    "\n",
    "import numpy as np\n",
    "\n",
    "\n",
    "def loadlocal_mnist(images_path, labels_path):\n",
    "    \"\"\"Read MNIST from ubyte files.\n",
    "\n",
    "    Parameters\n",
    "    ----------\n",
    "    images_path : str\n",
    "        path to the test or train MNIST ubyte file\n",
    "    labels_path : str\n",
    "        path to the test or train MNIST class labels file\n",
    "\n",
    "    Returns\n",
    "    --------\n",
    "    images : [n_samples, n_pixels] numpy.array\n",
    "        Pixel values of the images.\n",
    "    labels : [n_samples] numpy array\n",
    "        Target class labels\n",
    "\n",
    "    Examples\n",
    "    -----------\n",
    "    For usage examples, please see\n",
    "    http://rasbt.github.io/mlxtend/user_guide/data/loadlocal_mnist/\n",
    "\n",
    "    \"\"\"\n",
    "    with open(labels_path, \"rb\") as lbpath:\n",
    "        magic, n = struct.unpack(\">II\", lbpath.read(8))\n",
    "        labels = np.fromfile(lbpath, dtype=np.uint8)\n",
    "    with open(images_path, \"rb\") as imgpath:\n",
    "        magic, num, rows, cols = struct.unpack(\">IIII\", imgpath.read(16))\n",
    "        images = np.fromfile(imgpath, dtype=np.uint8).reshape(len(labels), 784)\n",
    "\n",
    "    return images, labels"
   ]
  },
  {
   "cell_type": "code",
   "execution_count": 101,
   "id": "c5909308-8f7f-41d9-9c22-117a842dadde",
   "metadata": {},
   "outputs": [],
   "source": [
    "X_train, y_train = loadlocal_mnist(\n",
    "            images_path='train-images-idx3-ubyte', \n",
    "            labels_path='train-labels-idx1-ubyte')\n",
    "\n",
    "X_test, y_test = loadlocal_mnist(\n",
    "            images_path='t10k-images-idx3-ubyte', \n",
    "            labels_path='t10k-labels-idx1-ubyte')"
   ]
  },
  {
   "cell_type": "code",
   "execution_count": 102,
   "id": "a3c45ac4-1cf1-4cb6-893c-a5651a3252a8",
   "metadata": {},
   "outputs": [
    {
     "data": {
      "text/plain": [
       "<matplotlib.image.AxesImage at 0x7fc3e4bcace0>"
      ]
     },
     "execution_count": 102,
     "metadata": {},
     "output_type": "execute_result"
    },
    {
     "data": {
      "image/png": "[encoded data removed]",
      "text/plain": [
       "<Figure size 432x288 with 1 Axes>"
      ]
     },
     "metadata": {
      "needs_background": "light"
     },
     "output_type": "display_data"
    }
   ],
   "source": [
    "import cv2\n",
    "import matplotlib.pyplot as plt\n",
    "import math\n",
    "\n",
    "downsampled_crop = 1\n",
    "downsampled_size = 14\n",
    "\n",
    "def downsample(imgs, size=downsampled_size, border_to_crop=downsampled_crop):\n",
    "    original_dim = round(math.sqrt(imgs.shape[1]))\n",
    "    twod_imgs = imgs.reshape((-1, original_dim, original_dim))\n",
    "    cropped_imgs = twod_imgs[:, border_to_crop : -border_to_crop, border_to_crop : -border_to_crop]\n",
    "\n",
    "    resized_images = np.stack([cv2.resize(cropped_img, (size, size), interpolation=cv2.INTER_AREA) for cropped_img in cropped_imgs])\n",
    "    flattened_images = resized_images.reshape((-1, size**2))\n",
    "    return flattened_images\n",
    "\n",
    "downsampled_X_train = downsample(X_train)\n",
    "downsampled_X_test  = downsample(X_test)\n",
    "\n",
    "# plt.imshow(X_train[2].reshape((round(math.sqrt(X_train.shape[1])), round(math.sqrt(X_train.shape[1])))))\n",
    "plt.imshow(downsampled_X_train[2].reshape((round(math.sqrt(downsampled_X_train.shape[1])), round(math.sqrt(downsampled_X_train.shape[1])))))"
   ]
  },
  {
   "cell_type": "markdown",
   "id": "325da3e3-d589-4c4e-aeec-b00405e6763d",
   "metadata": {
    "tags": []
   },
   "source": [
    "# Write Chunked JSON Data\n",
    "## ...as .zip files"
   ]
  },
  {
   "cell_type": "code",
   "execution_count": 103,
   "id": "1e443f91-d61d-4ade-9e0e-bbcdf70059d9",
   "metadata": {},
   "outputs": [
    {
     "name": "stdout",
     "output_type": "stream",
     "text": [
      "Wrote zipped train file train-chunked.zip\n",
      "Wrote zipped train file test-chunked.zip\n",
      "Wrote zipped train file train-14x14-chunked.zip\n",
      "Wrote zipped train file test-14x14-chunked.zip\n"
     ]
    }
   ],
   "source": [
    "import json\n",
    "import zipfile\n",
    "import os\n",
    "\n",
    "CHUNK_SIZE = 1000\n",
    "REMOVE_JSON_FILES = True\n",
    "ZIP_COMPRESSION = zipfile.ZIP_DEFLATED\n",
    "\n",
    "INDEX_FILENAME = 'index.json'\n",
    "\n",
    "outfile_zip_train = 'train-chunked.zip'\n",
    "outfile_zip_test = 'test-chunked.zip'\n",
    "outfile_downsampled_zip_train = f'train-{downsampled_size}x{downsampled_size}-chunked.zip'\n",
    "outfile_downsampled_zip_test = f'test-{downsampled_size}x{downsampled_size}-chunked.zip'\n",
    "\n",
    "# https://www.geeksforgeeks.org/break-list-chunks-size-n-python/\n",
    "def do_chunk(l, n=CHUNK_SIZE):\n",
    "    for i in range(0, len(l), n):\n",
    "        yield l[i:i + n]\n",
    "\n",
    "# -----------------------------\n",
    "\n",
    "def writeChunkedFile(X, y, outFilename, chunk_size=CHUNK_SIZE):\n",
    "    image_chunks = do_chunk(X)\n",
    "    label_chunks = do_chunk(y)\n",
    "\n",
    "    filenames = []\n",
    "    for (idx, (image_chunk, label_chunk)) in enumerate(zip(image_chunks, label_chunks)):\n",
    "        fname = f'data_{idx}.json'\n",
    "        filenames.append(fname)\n",
    "\n",
    "        with open(fname, 'w') as f:\n",
    "            f.write(json.dumps({\n",
    "                'images': image_chunk,\n",
    "                'labels': label_chunk\n",
    "            }))\n",
    "            # print(f'Wrote file {fname}')\n",
    "\n",
    "    with open(INDEX_FILENAME, 'w') as f:\n",
    "        f.write(json.dumps({\n",
    "            'files': filenames,\n",
    "            'N': len(X)\n",
    "        }))\n",
    "\n",
    "    with zipfile.ZipFile(outFilename, 'w', ZIP_COMPRESSION) as zf:\n",
    "        zf.write(INDEX_FILENAME)\n",
    "        for fname in filenames:\n",
    "            zf.write(fname)\n",
    "        print(f'Wrote zipped train file {outFilename}')\n",
    "\n",
    "    os.remove(INDEX_FILENAME)\n",
    "    for fname in filenames:\n",
    "        os.remove(fname)\n",
    "\n",
    "writeChunkedFile(X_train.tolist(), y_train.tolist(), outfile_zip_train)\n",
    "writeChunkedFile(X_test.tolist(), y_test.tolist(), outfile_zip_test)\n",
    "\n",
    "\n",
    "writeChunkedFile(downsampled_X_train.tolist(), y_train.tolist(), outfile_downsampled_zip_train)\n",
    "writeChunkedFile(downsampled_X_test.tolist(), y_test.tolist(), outfile_downsampled_zip_test)"
   ]
  },
  {
   "cell_type": "markdown",
   "id": "7dff6b54-f0ae-4f9d-b5f2-29740b5e2169",
   "metadata": {
    "tags": []
   },
   "source": [
    "# Write JSON Data\n",
    "## ...as .zip files"
   ]
  },
  {
   "cell_type": "code",
   "execution_count": 70,
   "id": "72e60d4f-0648-4190-9b86-5a63bcac63ad",
   "metadata": {
    "tags": []
   },
   "outputs": [
    {
     "name": "stdout",
     "output_type": "stream",
     "text": [
      "Wrote train file train.json\n",
      "Wrote zipped train file train.zip\n",
      "Removed uncompressed train file train.json\n",
      "Wrote test file test.json\n",
      "Wrote zipped test file test.zip\n",
      "Removed uncompressed test file test.json\n"
     ]
    }
   ],
   "source": [
    "# import json\n",
    "# import zipfile\n",
    "# import os\n",
    "\n",
    "# REMOVE_JSON_FILES = True\n",
    "# ZIP_COMPRESSION = zipfile.ZIP_DEFLATED\n",
    "\n",
    "# outfile_train = 'train.json'\n",
    "# outfile_zip_train = 'train.zip'\n",
    "# outfile_test = 'test.json'\n",
    "# outfile_zip_test = 'test.zip'\n",
    "\n",
    "# # -----------------------------\n",
    "\n",
    "# with open(outfile_train, 'w') as f:\n",
    "#     f.write(json.dumps({\n",
    "#         'images': X_train.tolist(),\n",
    "#         'labels': y_train.tolist()\n",
    "#     }))\n",
    "#     print(f'Wrote train file {outfile_train}')\n",
    "# with zipfile.ZipFile(outfile_zip_train, 'w', ZIP_COMPRESSION) as zf:\n",
    "#     zf.write(outfile_train)\n",
    "#     print(f'Wrote zipped train file {outfile_zip_train}')\n",
    "    \n",
    "# if REMOVE_JSON_FILES:\n",
    "#     os.remove(outfile_train)\n",
    "#     print(f'Removed uncompressed train file {outfile_train}')\n",
    "\n",
    "# with open(outfile_test, 'w') as f:\n",
    "#     f.write(json.dumps({\n",
    "#         'images': X_test.tolist(),\n",
    "#         'labels': y_test.tolist()\n",
    "#     }))\n",
    "#     print(f'Wrote test file {outfile_test}')\n",
    "# with zipfile.ZipFile(outfile_zip_test, 'w', ZIP_COMPRESSION) as zf:\n",
    "#     zf.write(outfile_test)\n",
    "#     print(f'Wrote zipped test file {outfile_zip_test}')\n",
    "\n",
    "# if REMOVE_JSON_FILES:\n",
    "#     os.remove(outfile_test)\n",
    "#     print(f'Removed uncompressed test file {outfile_test}')"
   ]
  },
  {
   "cell_type": "markdown",
   "id": "0f48a215-29ef-46fc-b64c-020ca1717691",
   "metadata": {},
   "source": [
    "# Write Tensorflow Data"
   ]
  },
  {
   "cell_type": "code",
   "execution_count": 14,
   "id": "f7d84840-2157-41df-9c15-14c424ef2da0",
   "metadata": {},
   "outputs": [],
   "source": [
    "# import tensorflow as tf\n",
    "\n",
    "# train_tensor = tf.convert_to_tensor(X_train)\n",
    "# train_label_tensor = tf.convert_to_tensor(y_train)\n",
    "\n",
    "# test_tensor = tf.convert_to_tensor(X_test)\n",
    "# test_label_tensor = tf.convert_to_tensor(y_test)\n",
    "\n",
    "# train_dataset = tf.data.Dataset.from_tensors(train_tensor)\n",
    "\n",
    "\n",
    "# # train_dataset.save('train-tensor')\n",
    "\n",
    "\n",
    "# # tf.io.write_file('train-tensor', train_tensor)"
   ]
  },
  {
   "cell_type": "code",
   "execution_count": null,
   "id": "48bf0474-393d-43c5-8d06-8b40463111b3",
   "metadata": {},
   "outputs": [],
   "source": []
  }
 ],
 "metadata": {
  "kernelspec": {
   "display_name": "Python 3 (ipykernel)",
   "language": "python",
   "name": "python3"
  },
  "language_info": {
   "codemirror_mode": {
    "name": "ipython",
    "version": 3
   },
   "file_extension": ".py",
   "mimetype": "text/x-python",
   "name": "python",
   "nbconvert_exporter": "python",
   "pygments_lexer": "ipython3",
   "version": "3.10.6"
  }
 },
 "nbformat": 4,
 "nbformat_minor": 5
}
