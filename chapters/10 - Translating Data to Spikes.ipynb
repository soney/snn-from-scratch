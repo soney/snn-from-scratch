{
 "cells": [
  {
   "cell_type": "markdown",
   "metadata": {},
   "source": [
    "# Translating Data to Spikes\n",
    "\n",
    "Suppose we have some data---whether an image, audio content, or some other form of information---and we want to represent it as spikes. In other words, we have some **external** data source and we want to \"input\" it into our neuromorphic system. How can we do this?\n",
    "\n",
    "Let's start with something like a scalar number. How would we translate this into spikes? We could use either **frequency** encoding (where we send information by communicating with *how often* our neuron fires) or **time** encoding (where we send information through the precise *timing* of neuron fires). **Let's focus on frequency coding**.\n",
    "\n",
    "A simple way would be to spike in proportion to the value of the number; the higher the number, the more spikes. So let's suppose we have a target number $v$ that we want to represent in spikes. If $v$ is positive, we can do this easily by translating $v$ into a **firing rate** (number of spikes per second). This would mean that we fire $v$ times per second...or once every $\\frac{1}{v}$ seconds, if $v$ is positive."
   ]
  },
  {
   "cell_type": "code",
   "execution_count": 2,
   "metadata": {
    "tags": [
     "hide-input"
    ]
   },
   "outputs": [],
   "source": [
    "import matplotlib.pyplot as plt\n",
    "\n",
    "freq = 1\n",
    "\n",
    "def plot_spikes(spikes, T, width=900, height=20, padding=1): # Show a plot of the spikes\n",
    "    fig, ax = plt.subplots(figsize=(width/100, height/100)) # Create a new figure\n",
    "    spacing = (width - 2 * padding) / T # The factor to multiply spike time by to get an x position\n",
    "    \n",
    "    spike_width = 2\n",
    "    spike_height = height - 2 * padding\n",
    "    y = padding\n",
    "    \n",
    "    for t in spikes:\n",
    "        x = padding + t * spacing\n",
    "        rect = plt.Rectangle((x, y), spike_width, spike_height, color='black')\n",
    "        ax.add_patch(rect)\n",
    "    \n",
    "    ax.set_xlim(0, width)\n",
    "    ax.set_ylim(0, height)\n",
    "    ax.axis('off')  # Turn off the axis\n",
    "\n",
    "    plt.show()\n",
    "\n",
    "def simple_frequency_spikes(freq, T=100, dt=0.01): # Generate a list of spiking times\n",
    "    spikes = []\n",
    "\n",
    "    if freq > 0: # Since we divide by freq, we can't have freq = 0\n",
    "        period = 1.0 / freq # The time between spikes\n",
    "        steps_per_spike = int(period / dt) # The number of steps between spikes\n",
    "        for step in range(int(T / dt)):\n",
    "            if step % steps_per_spike == 0:\n",
    "                t = step * dt\n",
    "                spikes.append(t)\n",
    "            \n",
    "    return spikes, T"
   ]
  },
  {
   "cell_type": "code",
   "execution_count": 3,
   "metadata": {
    "tags": [
     "hide-input"
    ]
   },
   "outputs": [
    {
     "data": {
      "image/png": "[encoded data removed]",
      "text/plain": [
       "<Figure size 900x20 with 1 Axes>"
      ]
     },
     "metadata": {},
     "output_type": "display_data"
    },
    {
     "name": "stdout",
     "output_type": "stream",
     "text": [
      "Spikes: 100 over 100 seconds (1.0 Hz)\n"
     ]
    }
   ],
   "source": [
    "\n",
    "spikes, T = simple_frequency_spikes(freq)\n",
    "plot_spikes(spikes, T)\n",
    "print(f\"Spikes: {len(spikes)} over {T} seconds ({len(spikes) / T} Hz)\")"
   ]
  },
  {
   "cell_type": "markdown",
   "metadata": {},
   "source": [
    ":::{spikes-by-frequency}\n",
    ":::"
   ]
  },
  {
   "cell_type": "markdown",
   "metadata": {},
   "source": [
    "This works but has a few problems. First, it does not account for things like negative numbers (you can't have a negative frequency). So let's say that we assume that $v$ is in the range $[v_{min}, v_{max}]$. We can then scale our prior value of $v$ to be $v_s$ and ensure it is in the range $[0, 1]$: $v_s = \\frac{v-v_{min}}{v_{max}-v_{min}}$.\n",
    "\n",
    "Then, if we want it to use frequencies outside of $[0, 1]$ (say we want frequencies in the range $[f_{min}, f_{max}]$), we can do: $f_s(v) = f_{min} + v_s(f_{max}-f_{min}) = f_{min} + \\frac{v-v_{min}}{v_{max}-v_{min}}(f_{max}-f_{min})$."
   ]
  },
  {
   "cell_type": "code",
   "execution_count": 4,
   "metadata": {
    "tags": [
     "hide-input"
    ]
   },
   "outputs": [
    {
     "data": {
      "image/png": "[encoded data removed]",
      "text/plain": [
       "<Figure size 900x20 with 1 Axes>"
      ]
     },
     "metadata": {},
     "output_type": "display_data"
    },
    {
     "name": "stdout",
     "output_type": "stream",
     "text": [
      "Spikes: 182 over 100 seconds (1.82 Hz)\n"
     ]
    }
   ],
   "source": [
    "def scaled_frequency_spikes(val, v_min=0, v_max=100, f_min=0.9, f_max=10, T=100, dt=0.01):\n",
    "    return simple_frequency_spikes(f_min + (val - v_min) / (v_max - v_min) * (f_max - f_min), T, dt)\n",
    "\n",
    "spikes, T = scaled_frequency_spikes(10, v_min=0, v_max=100)\n",
    "plot_spikes(spikes, T)\n",
    "print(f\"Spikes: {len(spikes)} over {T} seconds ({len(spikes) / T} Hz)\")"
   ]
  },
  {
   "cell_type": "markdown",
   "metadata": {},
   "source": [
    ":::{scaled-spikes-by-frequency}\n",
    ":::"
   ]
  },
  {
   "cell_type": "markdown",
   "metadata": {},
   "source": [
    "This works but it has a few drawbacks. First, if we want regular spiking intervals then we need to have some notion of state in order to track if we should fire at a given timestep or not. Second, it does not contain any noise. Noise can help improve the robustness of our systems (and make them more realistic) by (1) ensuring that the system is recognizing common underlying patterns rather than overfitting to specific examples and (2) making sure it is more tolerant to errors and noisier inputs.\n",
    "\n",
    "Instead, it is common to use Poisson processes to represent these data probabilistically. \n",
    "\n",
    "## Probabilistic Firing\n",
    "\n",
    "We want to have a **probability** of firing that will likely result in firing rate $f_s(v)$. Like before, suppose we want to represent scalar $v$ with firing rate $f_s(v) = f_{min} + \\frac{v-v_{min}}{v_{max}-v_{min}}(f_{max}-f_{min})$. To do this, we want to have a probability of $f_s(v)$ of firing every second. This means that in a discrete simulation with timesteps $T_{step}$, we should have a probability of firing as $f_s(v) T_{step}$ on every timestep:\n",
    "\n",
    "$$Pr(fire) = T_{step}(f_{min} + \\frac{v-v_{min}}{v_{max}-v_{min}}(f_{max}-f_{min}))$$\n",
    "\n",
    "...then given a number of spikes $s$ over time $T_{step}$, our frequency is $\\frac{s}{T_{step}}$ and we can estimate our value by solving for $\\hat{x}$:\n",
    "\n",
    "$$\\hat{v} = \\frac{\\frac{s}{T_{step}}-f_{min}}{f_{max}-f_{min}}(v_{max} - v_{min}) + v_{min}$$"
   ]
  },
  {
   "cell_type": "code",
   "execution_count": 10,
   "metadata": {},
   "outputs": [],
   "source": [
    "import random\n",
    "\n",
    "def poisson_spikes(freq, T, dt=0.01):\n",
    "    spikes = []\n",
    "    probFire = freq * dt\n",
    "    numSteps = int(T / dt)\n",
    "    for step in range(numSteps):\n",
    "        if random.random() < probFire:\n",
    "            t = step * dt\n",
    "            spikes.append(t)\n",
    "    return spikes, T"
   ]
  },
  {
   "cell_type": "code",
   "execution_count": 11,
   "metadata": {
    "tags": [
     "hide-input"
    ]
   },
   "outputs": [
    {
     "data": {
      "image/png": "[encoded data removed]",
      "text/plain": [
       "<Figure size 900x20 with 1 Axes>"
      ]
     },
     "metadata": {},
     "output_type": "display_data"
    },
    {
     "name": "stdout",
     "output_type": "stream",
     "text": [
      "Spikes: 106 over 100 seconds (1.06 Hz). Estimated Value: 10.60 (Actual: 10; Error: 0.60)\n"
     ]
    }
   ],
   "source": [
    "\n",
    "def scaled_poission_spikes(val, val_min=0, val_max=100, f_min=0.9, f_max=10, T=100, dt=0.01):\n",
    "    return poisson_spikes(f_min + (val - val_min) / (val_max - val_min) * (f_max - f_min), T, dt)\n",
    "\n",
    "val   = 10\n",
    "v_min = 0\n",
    "v_max = 10\n",
    "f_min = 0\n",
    "f_max = 1\n",
    "spikes, T = scaled_poission_spikes(val=val, val_min=v_min, val_max=v_max, f_min=f_min, f_max=f_max)\n",
    "plot_spikes(spikes, T)\n",
    "estimated_value = len(spikes) / T * (v_max - v_min) / (f_max - f_min) + v_min\n",
    "print(f\"Spikes: {len(spikes)} over {T} seconds ({len(spikes) / T:.2f} Hz). Estimated Value: {estimated_value:.2f} (Actual: {val}; Error: {abs(val - estimated_value):.2f})\")"
   ]
  },
  {
   "cell_type": "markdown",
   "metadata": {},
   "source": [
    ":::{poisson-spikes}\n",
    ":::"
   ]
  },
  {
   "cell_type": "markdown",
   "metadata": {},
   "source": [
    "Let's look at how the estimated value varies compared to the actual value when we do this. For now, we'll use the values `f_min = 0`, `f_max = 100`, `x_min = 0`, `x_max = 100`. We'll use a discrete time simulation with `Tstep = 0.01` for every step:"
   ]
  },
  {
   "cell_type": "code",
   "execution_count": 17,
   "metadata": {
    "tags": [
     "hide-input"
    ]
   },
   "outputs": [],
   "source": [
    "import numpy as np\n",
    "import matplotlib.pyplot as plt\n",
    "\n",
    "def plot_values(val_min, val_max, f_min=0, f_max=100, val_step = 0.01, T=10):\n",
    "    estimated_values = []\n",
    "    actual_values = []\n",
    "    for val in np.arange(val_min, val_max, val_step):\n",
    "        spikes, T = scaled_poission_spikes(val=val, val_min=val_min, val_max=val_max, f_min=f_min, f_max=f_max, T=T)\n",
    "        estimated_value = len(spikes) / T * (val_max - val_min) / (f_max - f_min) + val_min\n",
    "        estimated_values.append(estimated_value)\n",
    "        actual_values.append(val)\n",
    "\n",
    "    plt.figure()\n",
    "    plt.plot(actual_values, estimated_values, color=\"black\", linewidth=1)\n",
    "    plt.plot(actual_values, actual_values, color=\"red\", linewidth=1, linestyle=\"--\")\n",
    "    plt.xlabel(\"Actual Value\")\n",
    "    plt.ylabel(\"Estimated Value\")\n",
    "    plt.show()"
   ]
  },
  {
   "cell_type": "code",
   "execution_count": 18,
   "metadata": {},
   "outputs": [
    {
     "data": {
      "image/png": "[encoded data removed]",
      "text/plain": [
       "<Figure size 640x480 with 1 Axes>"
      ]
     },
     "metadata": {},
     "output_type": "display_data"
    }
   ],
   "source": [
    "plot_values(0, 5, f_min=0, f_max=100)"
   ]
  },
  {
   "cell_type": "markdown",
   "metadata": {},
   "source": [
    "We can see that our reconstructed estimates look fairly reasonable. Now let's look at what happens if we increase `f_max` to `200`:"
   ]
  },
  {
   "cell_type": "code",
   "execution_count": 19,
   "metadata": {},
   "outputs": [
    {
     "data": {
      "image/png": "[encoded data removed]",
      "text/plain": [
       "<Figure size 640x480 with 1 Axes>"
      ]
     },
     "metadata": {},
     "output_type": "display_data"
    }
   ],
   "source": [
    "plot_values(0, 5, f_min=0, f_max=200)"
   ]
  },
  {
   "cell_type": "markdown",
   "metadata": {},
   "source": [
    "Notice how our estimate stops increasing around `x = 2.5`? This corresponds to a frequency of 100 Hz. Given that we had a value of `Tstep = 0.01`, we can never achieve a frequency greater than $\\frac{1}{T_{step}} = 100$ since we can only fire a maximum of one time per time step in our discrete time simulation.\n",
    "\n",
    "This tells us that we need to be sure our maximum frequency is not so high that we would need multiple firings per time step for our discrete time simulation; $f_{max} \\leq \\frac{1}{T_{step}}$.\n",
    "\n",
    "Note that Poisson processes can \"handle\" this by assuming that there might be multiple events in every step and they estimate the probability of $k$ firings as $\\frac{\\lambda{}^k}{k!}e^{-\\lambda{}}$ where $\\lambda{} = Pr(fire)$ from above.\n",
    "\n",
    "However, rather than allowing multiple spikes per timestep, we will just choose time-steps small enough that we can assume it's exceedingly unlikely that multiple spikes will fire per timestep."
   ]
  },
  {
   "cell_type": "markdown",
   "metadata": {},
   "source": [
    "### Caveats:\n",
    "\n",
    "Poisson processes make the assumption that the likelyhood of firing at every timestep is completely independent. This isn't quite biologically realistic, because:\n",
    "\n",
    "- Neurons have a refractory period; they are less likely to fire immediately after they have just fired\n",
    "- Some neurons (like \"burst\" neurons) have special properties that make them more likely to fire in bursts.\n",
    "\n",
    "However, we aren't concerned about biological realism here and so will ignore these caveats. [Prior work has attempted to address them](https://www.cns.nyu.edu/~david/handouts/poisson.pdf)."
   ]
  },
  {
   "cell_type": "markdown",
   "metadata": {},
   "source": [
    "## Summary\n",
    "\n",
    "- We often model data sources as Poisson processes\n",
    "- These models can represent values as probabilistic frequencies\n",
    "- If our data is $x$, at every time step, we can have a probability of firing of $T_{step}(f_{min} + \\frac{v-v_{min}}{v_{max}-v_{min}}(f_{max}-f_{min}))$\n",
    "  - $v$ is the data we are representing\n",
    "  - $v_{max}$ is the highest value we expect $x$ to have\n",
    "  - $v_{min}$ is the lowest value we expect $x$ to have\n",
    "  - $T_{step}$ is the size of our timestep\n",
    "  - $f_{min}$ is the minimum desired firing frequency\n",
    "  - $f_{max}$ is the maximum desired firing frequency\n",
    "\n",
    "## References\n",
    "\n",
    "- The Neuromatch Academy has [a helpful overview of the Poisson distribution](https://compneuro.neuromatch.io/tutorials/W0D5_Statistics/student/W0D5_Tutorial1.html#section-2-2-poisson-distribution)\n",
    "- [This snnTorch tutorial](https://snntorch.readthedocs.io/en/latest/tutorials/tutorial_1.html) has a great overview of spike encoding"
   ]
  }
 ],
 "metadata": {
  "kernelspec": {
   "display_name": "Python 3",
   "language": "python",
   "name": "python3"
  },
  "language_info": {
   "codemirror_mode": {
    "name": "ipython",
    "version": 3
   },
   "file_extension": ".py",
   "mimetype": "text/x-python",
   "name": "python",
   "nbconvert_exporter": "python",
   "pygments_lexer": "ipython3",
   "version": "3.12.3"
  }
 },
 "nbformat": 4,
 "nbformat_minor": 2
}
